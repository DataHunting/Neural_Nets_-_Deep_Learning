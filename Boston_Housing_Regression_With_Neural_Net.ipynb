{
  "nbformat": 4,
  "nbformat_minor": 0,
  "metadata": {
    "colab": {
      "provenance": [],
      "authorship_tag": "ABX9TyOlq3o3BZXxcJfSmVBlry+B",
      "include_colab_link": true
    },
    "kernelspec": {
      "name": "python3",
      "display_name": "Python 3"
    },
    "language_info": {
      "name": "python"
    }
  },
  "cells": [
    {
      "cell_type": "markdown",
      "metadata": {
        "id": "view-in-github",
        "colab_type": "text"
      },
      "source": [
        "<a href=\"https://colab.research.google.com/github/DataHunting/Neural_Nets_And_Deep_Learning_Repo/blob/main/Boston_Housing_Regression_With_Neural_Net.ipynb\" target=\"_parent\"><img src=\"https://colab.research.google.com/assets/colab-badge.svg\" alt=\"Open In Colab\"/></a>"
      ]
    },
    {
      "cell_type": "code",
      "execution_count": 1,
      "metadata": {
        "colab": {
          "base_uri": "https://localhost:8080/",
          "height": 36
        },
        "id": "QeRqcZeBrRHH",
        "outputId": "bf6de537-40e0-4e0f-f796-fbccd1d9cdeb"
      },
      "outputs": [
        {
          "output_type": "execute_result",
          "data": {
            "text/plain": [
              "'2.9.2'"
            ],
            "application/vnd.google.colaboratory.intrinsic+json": {
              "type": "string"
            }
          },
          "metadata": {},
          "execution_count": 1
        }
      ],
      "source": [
        "import tensorflow\n",
        "tensorflow.__version__"
      ]
    },
    {
      "cell_type": "code",
      "source": [
        "# Initialize the random number generator\n",
        "import random\n",
        "random.seed(0)\n",
        "\n",
        "# Ignore the warnings\n",
        "import warnings\n",
        "warnings.filterwarnings(\"ignore\")"
      ],
      "metadata": {
        "id": "aao8-qsVtP_-"
      },
      "execution_count": 2,
      "outputs": []
    },
    {
      "cell_type": "code",
      "source": [
        "from keras.datasets import boston_housing\n",
        "\n",
        "# boston_housing.load_data() function returns 2 tuples, one for train data and \n",
        "# other for test data. We will take only train data here.\n",
        "(features, actual_prices), _ = boston_housing.load_data(test_split=0)"
      ],
      "metadata": {
        "colab": {
          "base_uri": "https://localhost:8080/"
        },
        "id": "IRbk7WGmtQ8G",
        "outputId": "c31bf91d-1f1a-404a-de2f-8a56f15ad276"
      },
      "execution_count": 3,
      "outputs": [
        {
          "output_type": "stream",
          "name": "stdout",
          "text": [
            "Downloading data from https://storage.googleapis.com/tensorflow/tf-keras-datasets/boston_housing.npz\n",
            "57026/57026 [==============================] - 0s 0us/step\n"
          ]
        }
      ]
    },
    {
      "cell_type": "code",
      "source": [
        "print('Number of examples: ', features.shape[0])\n",
        "print('Number of features for each example: ', features.shape[1])\n",
        "print('Shape of actual prices data: ', actual_prices.shape)"
      ],
      "metadata": {
        "colab": {
          "base_uri": "https://localhost:8080/"
        },
        "id": "3zzh4Ko0tdXD",
        "outputId": "847c767f-cf17-419a-eaf2-f444ef7a2a68"
      },
      "execution_count": 4,
      "outputs": [
        {
          "output_type": "stream",
          "name": "stdout",
          "text": [
            "Number of examples:  506\n",
            "Number of features for each example:  13\n",
            "Shape of actual prices data:  (506,)\n"
          ]
        }
      ]
    },
    {
      "cell_type": "code",
      "source": [
        "features[:5]"
      ],
      "metadata": {
        "colab": {
          "base_uri": "https://localhost:8080/"
        },
        "id": "FKlv__7ati3B",
        "outputId": "8fe993b2-9a08-4f73-ed07-7ac9f254447f"
      },
      "execution_count": 5,
      "outputs": [
        {
          "output_type": "execute_result",
          "data": {
            "text/plain": [
              "array([[1.23247e+00, 0.00000e+00, 8.14000e+00, 0.00000e+00, 5.38000e-01,\n",
              "        6.14200e+00, 9.17000e+01, 3.97690e+00, 4.00000e+00, 3.07000e+02,\n",
              "        2.10000e+01, 3.96900e+02, 1.87200e+01],\n",
              "       [2.17700e-02, 8.25000e+01, 2.03000e+00, 0.00000e+00, 4.15000e-01,\n",
              "        7.61000e+00, 1.57000e+01, 6.27000e+00, 2.00000e+00, 3.48000e+02,\n",
              "        1.47000e+01, 3.95380e+02, 3.11000e+00],\n",
              "       [4.89822e+00, 0.00000e+00, 1.81000e+01, 0.00000e+00, 6.31000e-01,\n",
              "        4.97000e+00, 1.00000e+02, 1.33250e+00, 2.40000e+01, 6.66000e+02,\n",
              "        2.02000e+01, 3.75520e+02, 3.26000e+00],\n",
              "       [3.96100e-02, 0.00000e+00, 5.19000e+00, 0.00000e+00, 5.15000e-01,\n",
              "        6.03700e+00, 3.45000e+01, 5.98530e+00, 5.00000e+00, 2.24000e+02,\n",
              "        2.02000e+01, 3.96900e+02, 8.01000e+00],\n",
              "       [3.69311e+00, 0.00000e+00, 1.81000e+01, 0.00000e+00, 7.13000e-01,\n",
              "        6.37600e+00, 8.84000e+01, 2.56710e+00, 2.40000e+01, 6.66000e+02,\n",
              "        2.02000e+01, 3.91430e+02, 1.46500e+01]])"
            ]
          },
          "metadata": {},
          "execution_count": 5
        }
      ]
    },
    {
      "cell_type": "code",
      "source": [
        "actual_prices[:5]"
      ],
      "metadata": {
        "colab": {
          "base_uri": "https://localhost:8080/"
        },
        "id": "u5_PY5GTtmVy",
        "outputId": "8c13e33d-185a-465d-a525-dcb55767486a"
      },
      "execution_count": 6,
      "outputs": [
        {
          "output_type": "execute_result",
          "data": {
            "text/plain": [
              "array([15.2, 42.3, 50. , 21.1, 17.7])"
            ]
          },
          "metadata": {},
          "execution_count": 6
        }
      ]
    },
    {
      "cell_type": "code",
      "source": [
        "# Initialize Sequential Model\n",
        "model = tensorflow.keras.models.Sequential()\n",
        "\n",
        "# Normalize Input Data\n",
        "model.add(tensorflow.keras.layers.BatchNormalization(input_shape=(13,)))\n",
        "\n",
        "# Add Final Dense Layer for Prediction\n",
        "model.add(tensorflow.keras.layers.Dense(1))"
      ],
      "metadata": {
        "id": "qSjNbiy4to-V"
      },
      "execution_count": 7,
      "outputs": []
    },
    {
      "cell_type": "code",
      "source": [
        "# Compile the model - add mean squared error as loss and stochastic gradient descent as optimizer\n",
        "model.compile(optimizer='sgd', loss='mse')"
      ],
      "metadata": {
        "id": "AfyGgy9zuhmE"
      },
      "execution_count": 8,
      "outputs": []
    },
    {
      "cell_type": "code",
      "source": [
        "model.fit(features, actual_prices, epochs=100, validation_split=0.35)"
      ],
      "metadata": {
        "colab": {
          "base_uri": "https://localhost:8080/"
        },
        "id": "muzCw-EDul9E",
        "outputId": "40867c62-8446-4cf5-e2c1-6ce1792ee7a6"
      },
      "execution_count": 9,
      "outputs": [
        {
          "output_type": "stream",
          "name": "stdout",
          "text": [
            "Epoch 1/100\n",
            "11/11 [==============================] - 1s 20ms/step - loss: 229.8092 - val_loss: 601.2579\n",
            "Epoch 2/100\n",
            "11/11 [==============================] - 0s 6ms/step - loss: 48.2807 - val_loss: 254.2073\n",
            "Epoch 3/100\n",
            "11/11 [==============================] - 0s 6ms/step - loss: 35.6255 - val_loss: 50.4015\n",
            "Epoch 4/100\n",
            "11/11 [==============================] - 0s 10ms/step - loss: 34.1881 - val_loss: 86.8768\n",
            "Epoch 5/100\n",
            "11/11 [==============================] - 0s 5ms/step - loss: 39.4095 - val_loss: 30.2406\n",
            "Epoch 6/100\n",
            "11/11 [==============================] - 0s 6ms/step - loss: 29.9643 - val_loss: 46.2082\n",
            "Epoch 7/100\n",
            "11/11 [==============================] - 0s 6ms/step - loss: 35.7471 - val_loss: 37.9055\n",
            "Epoch 8/100\n",
            "11/11 [==============================] - 0s 5ms/step - loss: 33.1740 - val_loss: 31.8684\n",
            "Epoch 9/100\n",
            "11/11 [==============================] - 0s 5ms/step - loss: 27.4930 - val_loss: 46.1150\n",
            "Epoch 10/100\n",
            "11/11 [==============================] - 0s 5ms/step - loss: 32.0695 - val_loss: 29.4776\n",
            "Epoch 11/100\n",
            "11/11 [==============================] - 0s 5ms/step - loss: 34.5510 - val_loss: 29.1193\n",
            "Epoch 12/100\n",
            "11/11 [==============================] - 0s 5ms/step - loss: 36.1834 - val_loss: 50.4192\n",
            "Epoch 13/100\n",
            "11/11 [==============================] - 0s 5ms/step - loss: 40.2912 - val_loss: 42.6922\n",
            "Epoch 14/100\n",
            "11/11 [==============================] - 0s 5ms/step - loss: 31.9913 - val_loss: 46.9722\n",
            "Epoch 15/100\n",
            "11/11 [==============================] - 0s 5ms/step - loss: 29.2821 - val_loss: 25.7327\n",
            "Epoch 16/100\n",
            "11/11 [==============================] - 0s 6ms/step - loss: 34.7948 - val_loss: 60.8481\n",
            "Epoch 17/100\n",
            "11/11 [==============================] - 0s 6ms/step - loss: 37.5940 - val_loss: 35.8540\n",
            "Epoch 18/100\n",
            "11/11 [==============================] - 0s 6ms/step - loss: 27.6058 - val_loss: 30.9367\n",
            "Epoch 19/100\n",
            "11/11 [==============================] - 0s 5ms/step - loss: 28.8275 - val_loss: 28.9794\n",
            "Epoch 20/100\n",
            "11/11 [==============================] - 0s 6ms/step - loss: 29.4595 - val_loss: 36.3966\n",
            "Epoch 21/100\n",
            "11/11 [==============================] - 0s 5ms/step - loss: 29.7601 - val_loss: 36.3592\n",
            "Epoch 22/100\n",
            "11/11 [==============================] - 0s 6ms/step - loss: 27.2716 - val_loss: 25.4131\n",
            "Epoch 23/100\n",
            "11/11 [==============================] - 0s 5ms/step - loss: 31.7139 - val_loss: 38.4846\n",
            "Epoch 24/100\n",
            "11/11 [==============================] - 0s 5ms/step - loss: 27.2640 - val_loss: 27.8172\n",
            "Epoch 25/100\n",
            "11/11 [==============================] - 0s 5ms/step - loss: 35.0523 - val_loss: 40.0527\n",
            "Epoch 26/100\n",
            "11/11 [==============================] - 0s 5ms/step - loss: 28.7303 - val_loss: 25.6238\n",
            "Epoch 27/100\n",
            "11/11 [==============================] - 0s 6ms/step - loss: 33.2131 - val_loss: 33.9907\n",
            "Epoch 28/100\n",
            "11/11 [==============================] - 0s 5ms/step - loss: 30.0817 - val_loss: 38.3197\n",
            "Epoch 29/100\n",
            "11/11 [==============================] - 0s 4ms/step - loss: 31.4115 - val_loss: 24.8328\n",
            "Epoch 30/100\n",
            "11/11 [==============================] - 0s 5ms/step - loss: 26.0409 - val_loss: 23.6059\n",
            "Epoch 31/100\n",
            "11/11 [==============================] - 0s 5ms/step - loss: 34.3922 - val_loss: 92.3517\n",
            "Epoch 32/100\n",
            "11/11 [==============================] - 0s 5ms/step - loss: 31.0929 - val_loss: 34.3668\n",
            "Epoch 33/100\n",
            "11/11 [==============================] - 0s 5ms/step - loss: 26.6827 - val_loss: 24.0897\n",
            "Epoch 34/100\n",
            "11/11 [==============================] - 0s 5ms/step - loss: 30.2992 - val_loss: 55.3397\n",
            "Epoch 35/100\n",
            "11/11 [==============================] - 0s 7ms/step - loss: 32.2246 - val_loss: 59.6376\n",
            "Epoch 36/100\n",
            "11/11 [==============================] - 0s 5ms/step - loss: 30.1201 - val_loss: 28.0456\n",
            "Epoch 37/100\n",
            "11/11 [==============================] - 0s 5ms/step - loss: 28.1616 - val_loss: 25.9674\n",
            "Epoch 38/100\n",
            "11/11 [==============================] - 0s 7ms/step - loss: 25.8335 - val_loss: 25.8608\n",
            "Epoch 39/100\n",
            "11/11 [==============================] - 0s 6ms/step - loss: 27.8464 - val_loss: 52.8833\n",
            "Epoch 40/100\n",
            "11/11 [==============================] - 0s 6ms/step - loss: 28.5836 - val_loss: 25.7944\n",
            "Epoch 41/100\n",
            "11/11 [==============================] - 0s 5ms/step - loss: 27.5396 - val_loss: 31.9763\n",
            "Epoch 42/100\n",
            "11/11 [==============================] - 0s 5ms/step - loss: 30.1989 - val_loss: 47.5367\n",
            "Epoch 43/100\n",
            "11/11 [==============================] - 0s 5ms/step - loss: 29.9757 - val_loss: 51.1329\n",
            "Epoch 44/100\n",
            "11/11 [==============================] - 0s 5ms/step - loss: 28.5816 - val_loss: 34.1826\n",
            "Epoch 45/100\n",
            "11/11 [==============================] - 0s 7ms/step - loss: 30.6304 - val_loss: 33.2143\n",
            "Epoch 46/100\n",
            "11/11 [==============================] - 0s 6ms/step - loss: 30.8349 - val_loss: 26.2938\n",
            "Epoch 47/100\n",
            "11/11 [==============================] - 0s 5ms/step - loss: 29.5110 - val_loss: 41.0844\n",
            "Epoch 48/100\n",
            "11/11 [==============================] - 0s 7ms/step - loss: 29.7544 - val_loss: 25.0151\n",
            "Epoch 49/100\n",
            "11/11 [==============================] - 0s 6ms/step - loss: 27.1055 - val_loss: 49.5530\n",
            "Epoch 50/100\n",
            "11/11 [==============================] - 0s 5ms/step - loss: 28.0632 - val_loss: 49.7053\n",
            "Epoch 51/100\n",
            "11/11 [==============================] - 0s 5ms/step - loss: 27.0425 - val_loss: 37.0552\n",
            "Epoch 52/100\n",
            "11/11 [==============================] - 0s 5ms/step - loss: 32.7994 - val_loss: 38.3975\n",
            "Epoch 53/100\n",
            "11/11 [==============================] - 0s 6ms/step - loss: 31.6789 - val_loss: 50.9098\n",
            "Epoch 54/100\n",
            "11/11 [==============================] - 0s 5ms/step - loss: 29.2079 - val_loss: 94.8891\n",
            "Epoch 55/100\n",
            "11/11 [==============================] - 0s 5ms/step - loss: 35.6958 - val_loss: 29.1848\n",
            "Epoch 56/100\n",
            "11/11 [==============================] - 0s 5ms/step - loss: 26.7820 - val_loss: 23.2693\n",
            "Epoch 57/100\n",
            "11/11 [==============================] - 0s 5ms/step - loss: 29.7340 - val_loss: 24.0403\n",
            "Epoch 58/100\n",
            "11/11 [==============================] - 0s 5ms/step - loss: 25.4589 - val_loss: 25.8610\n",
            "Epoch 59/100\n",
            "11/11 [==============================] - 0s 5ms/step - loss: 28.1802 - val_loss: 39.8402\n",
            "Epoch 60/100\n",
            "11/11 [==============================] - 0s 7ms/step - loss: 27.7732 - val_loss: 37.5956\n",
            "Epoch 61/100\n",
            "11/11 [==============================] - 0s 5ms/step - loss: 29.2400 - val_loss: 30.7128\n",
            "Epoch 62/100\n",
            "11/11 [==============================] - 0s 6ms/step - loss: 25.2065 - val_loss: 41.0596\n",
            "Epoch 63/100\n",
            "11/11 [==============================] - 0s 5ms/step - loss: 36.2957 - val_loss: 76.2056\n",
            "Epoch 64/100\n",
            "11/11 [==============================] - 0s 6ms/step - loss: 30.6454 - val_loss: 28.3578\n",
            "Epoch 65/100\n",
            "11/11 [==============================] - 0s 5ms/step - loss: 27.2897 - val_loss: 25.5477\n",
            "Epoch 66/100\n",
            "11/11 [==============================] - 0s 5ms/step - loss: 27.9109 - val_loss: 48.3944\n",
            "Epoch 67/100\n",
            "11/11 [==============================] - 0s 5ms/step - loss: 29.7690 - val_loss: 22.8788\n",
            "Epoch 68/100\n",
            "11/11 [==============================] - 0s 5ms/step - loss: 27.7025 - val_loss: 27.6178\n",
            "Epoch 69/100\n",
            "11/11 [==============================] - 0s 6ms/step - loss: 26.7754 - val_loss: 23.1818\n",
            "Epoch 70/100\n",
            "11/11 [==============================] - 0s 7ms/step - loss: 29.9284 - val_loss: 32.4170\n",
            "Epoch 71/100\n",
            "11/11 [==============================] - 0s 5ms/step - loss: 30.0373 - val_loss: 35.8405\n",
            "Epoch 72/100\n",
            "11/11 [==============================] - 0s 6ms/step - loss: 27.6850 - val_loss: 38.8798\n",
            "Epoch 73/100\n",
            "11/11 [==============================] - 0s 6ms/step - loss: 27.6158 - val_loss: 30.1699\n",
            "Epoch 74/100\n",
            "11/11 [==============================] - 0s 6ms/step - loss: 26.3791 - val_loss: 39.8349\n",
            "Epoch 75/100\n",
            "11/11 [==============================] - 0s 6ms/step - loss: 27.2847 - val_loss: 26.2729\n",
            "Epoch 76/100\n",
            "11/11 [==============================] - 0s 5ms/step - loss: 28.3450 - val_loss: 24.5649\n",
            "Epoch 77/100\n",
            "11/11 [==============================] - 0s 5ms/step - loss: 24.0324 - val_loss: 23.2596\n",
            "Epoch 78/100\n",
            "11/11 [==============================] - 0s 5ms/step - loss: 28.8835 - val_loss: 45.1030\n",
            "Epoch 79/100\n",
            "11/11 [==============================] - 0s 7ms/step - loss: 31.9909 - val_loss: 52.6656\n",
            "Epoch 80/100\n",
            "11/11 [==============================] - 0s 5ms/step - loss: 26.5142 - val_loss: 23.3292\n",
            "Epoch 81/100\n",
            "11/11 [==============================] - 0s 5ms/step - loss: 28.5058 - val_loss: 32.2115\n",
            "Epoch 82/100\n",
            "11/11 [==============================] - 0s 5ms/step - loss: 25.6270 - val_loss: 36.2262\n",
            "Epoch 83/100\n",
            "11/11 [==============================] - 0s 5ms/step - loss: 27.7410 - val_loss: 69.6531\n",
            "Epoch 84/100\n",
            "11/11 [==============================] - 0s 6ms/step - loss: 36.8064 - val_loss: 30.2799\n",
            "Epoch 85/100\n",
            "11/11 [==============================] - 0s 5ms/step - loss: 27.3908 - val_loss: 24.6673\n",
            "Epoch 86/100\n",
            "11/11 [==============================] - 0s 5ms/step - loss: 28.3140 - val_loss: 25.6296\n",
            "Epoch 87/100\n",
            "11/11 [==============================] - 0s 5ms/step - loss: 26.8017 - val_loss: 28.4562\n",
            "Epoch 88/100\n",
            "11/11 [==============================] - 0s 5ms/step - loss: 23.8554 - val_loss: 27.8724\n",
            "Epoch 89/100\n",
            "11/11 [==============================] - 0s 6ms/step - loss: 27.1581 - val_loss: 33.7295\n",
            "Epoch 90/100\n",
            "11/11 [==============================] - 0s 7ms/step - loss: 29.2844 - val_loss: 60.3709\n",
            "Epoch 91/100\n",
            "11/11 [==============================] - 0s 5ms/step - loss: 29.5134 - val_loss: 42.5727\n",
            "Epoch 92/100\n",
            "11/11 [==============================] - 0s 6ms/step - loss: 26.9238 - val_loss: 24.3062\n",
            "Epoch 93/100\n",
            "11/11 [==============================] - 0s 6ms/step - loss: 25.4965 - val_loss: 30.9316\n",
            "Epoch 94/100\n",
            "11/11 [==============================] - 0s 6ms/step - loss: 28.1500 - val_loss: 24.5222\n",
            "Epoch 95/100\n",
            "11/11 [==============================] - 0s 6ms/step - loss: 28.4606 - val_loss: 27.2670\n",
            "Epoch 96/100\n",
            "11/11 [==============================] - 0s 5ms/step - loss: 30.2731 - val_loss: 31.0268\n",
            "Epoch 97/100\n",
            "11/11 [==============================] - 0s 6ms/step - loss: 28.9190 - val_loss: 40.2470\n",
            "Epoch 98/100\n",
            "11/11 [==============================] - 0s 5ms/step - loss: 36.9423 - val_loss: 23.6172\n",
            "Epoch 99/100\n",
            "11/11 [==============================] - 0s 7ms/step - loss: 27.8940 - val_loss: 28.3955\n",
            "Epoch 100/100\n",
            "11/11 [==============================] - 0s 5ms/step - loss: 25.5182 - val_loss: 45.4895\n"
          ]
        },
        {
          "output_type": "execute_result",
          "data": {
            "text/plain": [
              "<keras.callbacks.History at 0x7f22384468d0>"
            ]
          },
          "metadata": {},
          "execution_count": 9
        }
      ]
    },
    {
      "cell_type": "code",
      "source": [
        "import numpy as np\n",
        "test_x = np.reshape([1.2, 0, 8.14e+00, 0.0e+00, 5.3e-01, 6.14e+00, 9.170e+01, 3.97e+00, 4, 3.07e+02, 2.10e+01, 3.96e+02, 1.872e+01],(-1, 13))\n",
        "\n",
        "test_y = model.predict(test_x)\n",
        "print(test_y)"
      ],
      "metadata": {
        "colab": {
          "base_uri": "https://localhost:8080/"
        },
        "id": "4FjEdhjhuuNn",
        "outputId": "43e32327-2dfd-4f19-b387-607d0b3116ce"
      },
      "execution_count": 10,
      "outputs": [
        {
          "output_type": "stream",
          "name": "stdout",
          "text": [
            "1/1 [==============================] - 0s 86ms/step\n",
            "[[12.97289]]\n"
          ]
        }
      ]
    },
    {
      "cell_type": "code",
      "source": [],
      "metadata": {
        "id": "rVPvw6PTu4Kp"
      },
      "execution_count": null,
      "outputs": []
    }
  ]
}