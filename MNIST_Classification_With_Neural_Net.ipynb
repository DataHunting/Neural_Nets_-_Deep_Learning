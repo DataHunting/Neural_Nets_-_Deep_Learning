{
  "nbformat": 4,
  "nbformat_minor": 0,
  "metadata": {
    "colab": {
      "provenance": [],
      "authorship_tag": "ABX9TyNAYzorqHp0IdBUPJntdmzE"
    },
    "kernelspec": {
      "name": "python3",
      "display_name": "Python 3"
    },
    "language_info": {
      "name": "python"
    }
  },
  "cells": [
    {
      "cell_type": "code",
      "execution_count": 2,
      "metadata": {
        "colab": {
          "base_uri": "https://localhost:8080/",
          "height": 36
        },
        "id": "wYqx53WnWO8p",
        "outputId": "05d8ea94-16a3-47c8-8eeb-8fc45e3de8f7"
      },
      "outputs": [
        {
          "output_type": "execute_result",
          "data": {
            "text/plain": [
              "'2.9.2'"
            ],
            "application/vnd.google.colaboratory.intrinsic+json": {
              "type": "string"
            }
          },
          "metadata": {},
          "execution_count": 2
        }
      ],
      "source": [
        "import tensorflow\n",
        "tensorflow.__version__"
      ]
    },
    {
      "cell_type": "code",
      "source": [
        "# Initialize the random number generator\n",
        "import random\n",
        "random.seed(0)\n",
        "\n",
        "# Ignore the warnings\n",
        "import warnings\n",
        "warnings.filterwarnings(\"ignore\")"
      ],
      "metadata": {
        "id": "na7EkRrkWlLT"
      },
      "execution_count": 4,
      "outputs": []
    },
    {
      "cell_type": "code",
      "source": [
        "# Import dataset\n",
        "(X_train, y_train), (X_test, y_test) = tensorflow.keras.datasets.mnist.load_data()"
      ],
      "metadata": {
        "colab": {
          "base_uri": "https://localhost:8080/"
        },
        "id": "puEDoHkOWvnR",
        "outputId": "fef0c6ec-75d4-40b5-b16d-b4060c0b17ec"
      },
      "execution_count": 5,
      "outputs": [
        {
          "output_type": "stream",
          "name": "stdout",
          "text": [
            "Downloading data from https://storage.googleapis.com/tensorflow/tf-keras-datasets/mnist.npz\n",
            "11490434/11490434 [==============================] - 1s 0us/step\n"
          ]
        }
      ]
    },
    {
      "cell_type": "code",
      "source": [
        "print(y_train.shape)\n",
        "print(\"First 5 examples are: \", y_train[0:5])"
      ],
      "metadata": {
        "colab": {
          "base_uri": "https://localhost:8080/"
        },
        "id": "IgJl_LS-XQgz",
        "outputId": "a4301edc-4edd-4f94-d085-69a4aa9d66bd"
      },
      "execution_count": 6,
      "outputs": [
        {
          "output_type": "stream",
          "name": "stdout",
          "text": [
            "(60000,)\n",
            "First 5 examples are:  [5 0 4 1 9]\n"
          ]
        }
      ]
    },
    {
      "cell_type": "code",
      "source": [
        "# Let's visualize some numbers using matplotlib\n",
        "\n",
        "import matplotlib.pyplot as plt\n",
        "%matplotlib inline\n",
        "print(\"Label: {}\".format(y_train[8000]))\n",
        "plt.imshow(X_train[8000], cmap='gray')"
      ],
      "metadata": {
        "colab": {
          "base_uri": "https://localhost:8080/",
          "height": 300
        },
        "id": "D7tZfq23Xgsc",
        "outputId": "d6fa328c-0d73-4aec-c5aa-2fde967339ad"
      },
      "execution_count": 7,
      "outputs": [
        {
          "output_type": "stream",
          "name": "stdout",
          "text": [
            "Label: 0\n"
          ]
        },
        {
          "output_type": "execute_result",
          "data": {
            "text/plain": [
              "<matplotlib.image.AxesImage at 0x7f68f0891f50>"
            ]
          },
          "metadata": {},
          "execution_count": 7
        },
        {
          "output_type": "display_data",
          "data": {
            "text/plain": [
              "<Figure size 432x288 with 1 Axes>"
            ],
            "image/png": "[encoded data removed]"
          },
          "metadata": {
            "needs_background": "light"
          }
        }
      ]
    },
    {
      "cell_type": "code",
      "source": [
        "# Print shape of the data\n",
        "print(X_train.shape)\n",
        "print(y_train.shape)\n",
        "print(X_test.shape)\n",
        "print(y_test.shape)"
      ],
      "metadata": {
        "colab": {
          "base_uri": "https://localhost:8080/"
        },
        "id": "25__KJcbX7xM",
        "outputId": "4cdef701-4b07-468d-be6a-d82aebde5125"
      },
      "execution_count": 8,
      "outputs": [
        {
          "output_type": "stream",
          "name": "stdout",
          "text": [
            "(60000, 28, 28)\n",
            "(60000,)\n",
            "(10000, 28, 28)\n",
            "(10000,)\n"
          ]
        }
      ]
    },
    {
      "cell_type": "code",
      "source": [
        "# One-hot encode the class vector ... to use categorical_crossentropy as loss\n",
        "from tensorflow import keras\n",
        "from keras.utils import to_categorical\n",
        "\n",
        "print(\"Value before encoding:\", y_train[0])\n",
        "\n",
        "y_train = to_categorical(y_train, num_classes=10)\n",
        "y_test = to_categorical(y_test, num_classes=10)\n",
        "\n",
        "print(\"Shape of y_train after encoding:\", y_train.shape)\n",
        "print(\"One hot encoded value of y_train:\", y_train[0])\n"
      ],
      "metadata": {
        "colab": {
          "base_uri": "https://localhost:8080/"
        },
        "id": "cm06KjD7YKdT",
        "outputId": "cc6751aa-c1ac-4674-bf97-b2338e9863c5"
      },
      "execution_count": 9,
      "outputs": [
        {
          "output_type": "stream",
          "name": "stdout",
          "text": [
            "Value before encoding: 5\n",
            "Shape of y_train after encoding: (60000, 10)\n",
            "One hot encoded value of y_train: [0. 0. 0. 0. 0. 1. 0. 0. 0. 0.]\n"
          ]
        }
      ]
    },
    {
      "cell_type": "code",
      "source": [
        "# Define the model\n",
        "#   - The Sequential model is a linear stack of layers.\n",
        "#   - The model needs to know what input shape it should expect. For this reason, the first layer in a Sequential model \n",
        "#     (and only the first, because following layers can do automatic shape inference) needs to receive information about its input shape.\n",
        "#   - You can also simply add layers via the .add() method\n",
        "\n",
        "# Initialize Sequential model\n",
        "model = tensorflow.keras.models.Sequential()\n",
        "\n",
        "# Reshape data from 2D to 1D -> 28x28 to 784\n",
        "model.add(tensorflow.keras.layers.Reshape((784,), input_shape=(28,28,)))\n",
        "\n",
        "# Normalize the data\n",
        "model.add(tensorflow.keras.layers.BatchNormalization())\n",
        "\n",
        "# Hidden layers\n",
        "model.add(tensorflow.keras.layers.Dense(200, activation='relu', name='Layer_1'))\n",
        "model.add(tensorflow.keras.layers.Dense(100, activation='relu', name='Layer_2'))\n",
        "\n",
        "# Dropout layer\n",
        "model.add(tensorflow.keras.layers.Dropout(0.5))\n",
        "\n",
        "# Hidden layers\n",
        "model.add(tensorflow.keras.layers.Dense(60, activation='relu', name='Layer_3'))\n",
        "model.add(tensorflow.keras.layers.Dense(30, activation='relu', name='Layer_4'))\n",
        "\n",
        "# Dropout layer\n",
        "model.add(tensorflow.keras.layers.Dropout(0.3))\n",
        "\n",
        "# Output layer\n",
        "model.add(tensorflow.keras.layers.Dense(10, activation='softmax', name='Output'))"
      ],
      "metadata": {
        "id": "dFGSMkuKZaJD"
      },
      "execution_count": 10,
      "outputs": []
    },
    {
      "cell_type": "code",
      "source": [
        "model.compile(optimizer='adam', loss='categorical_crossentropy', metrics=['accuracy'])"
      ],
      "metadata": {
        "id": "FTy_RsPZbNWw"
      },
      "execution_count": 11,
      "outputs": []
    },
    {
      "cell_type": "code",
      "source": [
        "model.summary()"
      ],
      "metadata": {
        "colab": {
          "base_uri": "https://localhost:8080/"
        },
        "id": "Dxg6WTOfbd79",
        "outputId": "36ce08ac-2740-45d2-a92c-8f056925c939"
      },
      "execution_count": 12,
      "outputs": [
        {
          "output_type": "stream",
          "name": "stdout",
          "text": [
            "Model: \"sequential\"\n",
            "_________________________________________________________________\n",
            " Layer (type)                Output Shape              Param #   \n",
            "=================================================================\n",
            " reshape (Reshape)           (None, 784)               0         \n",
            "                                                                 \n",
            " batch_normalization (BatchN  (None, 784)              3136      \n",
            " ormalization)                                                   \n",
            "                                                                 \n",
            " Layer_1 (Dense)             (None, 200)               157000    \n",
            "                                                                 \n",
            " Layer_2 (Dense)             (None, 100)               20100     \n",
            "                                                                 \n",
            " dropout (Dropout)           (None, 100)               0         \n",
            "                                                                 \n",
            " Layer_3 (Dense)             (None, 60)                6060      \n",
            "                                                                 \n",
            " Layer_4 (Dense)             (None, 30)                1830      \n",
            "                                                                 \n",
            " dropout_1 (Dropout)         (None, 30)                0         \n",
            "                                                                 \n",
            " Output (Dense)              (None, 10)                310       \n",
            "                                                                 \n",
            "=================================================================\n",
            "Total params: 188,436\n",
            "Trainable params: 186,868\n",
            "Non-trainable params: 1,568\n",
            "_________________________________________________________________\n"
          ]
        }
      ]
    },
    {
      "cell_type": "code",
      "source": [
        "# Fit the model\n",
        "#   - .fit() trains the model for a fixed number of epochs (iterations on a dataset)\n",
        "#   - An epoch is an iteration over the entire x and y data provided\n",
        "#   - batch_size is the number of samples per gradient update\n",
        "#   - validation_data is the data on which to evaluate the loss and any model metrics at the end of each epoch\n",
        "\n",
        "model.fit(X_train, y_train, validation_data=(X_test, y_test), epochs=30, batch_size= 32)"
      ],
      "metadata": {
        "colab": {
          "base_uri": "https://localhost:8080/"
        },
        "id": "2ruYCuYCbiJt",
        "outputId": "b88877cb-b712-4d63-e570-7643546c361f"
      },
      "execution_count": 13,
      "outputs": [
        {
          "output_type": "stream",
          "name": "stdout",
          "text": [
            "Epoch 1/30\n",
            "1875/1875 [==============================] - 13s 6ms/step - loss: 0.4921 - accuracy: 0.8578 - val_loss: 0.2207 - val_accuracy: 0.9520\n",
            "Epoch 2/30\n",
            "1875/1875 [==============================] - 12s 7ms/step - loss: 0.2365 - accuracy: 0.9387 - val_loss: 0.1696 - val_accuracy: 0.9593\n",
            "Epoch 3/30\n",
            "1875/1875 [==============================] - 12s 6ms/step - loss: 0.1840 - accuracy: 0.9525 - val_loss: 0.3009 - val_accuracy: 0.9655\n",
            "Epoch 4/30\n",
            "1875/1875 [==============================] - 13s 7ms/step - loss: 0.1520 - accuracy: 0.9621 - val_loss: 0.2161 - val_accuracy: 0.9701\n",
            "Epoch 5/30\n",
            "1875/1875 [==============================] - 13s 7ms/step - loss: 0.1306 - accuracy: 0.9672 - val_loss: 0.2258 - val_accuracy: 0.9718\n",
            "Epoch 6/30\n",
            "1875/1875 [==============================] - 12s 6ms/step - loss: 0.1154 - accuracy: 0.9703 - val_loss: 0.1904 - val_accuracy: 0.9696\n",
            "Epoch 7/30\n",
            "1875/1875 [==============================] - 12s 6ms/step - loss: 0.1050 - accuracy: 0.9732 - val_loss: 0.2264 - val_accuracy: 0.9711\n",
            "Epoch 8/30\n",
            "1875/1875 [==============================] - 12s 6ms/step - loss: 0.0981 - accuracy: 0.9749 - val_loss: 0.2053 - val_accuracy: 0.9720\n",
            "Epoch 9/30\n",
            "1875/1875 [==============================] - 12s 7ms/step - loss: 0.0914 - accuracy: 0.9757 - val_loss: 0.2378 - val_accuracy: 0.9727\n",
            "Epoch 10/30\n",
            "1875/1875 [==============================] - 12s 7ms/step - loss: 0.0849 - accuracy: 0.9779 - val_loss: 0.2371 - val_accuracy: 0.9716\n",
            "Epoch 11/30\n",
            "1875/1875 [==============================] - 12s 6ms/step - loss: 0.0784 - accuracy: 0.9798 - val_loss: 0.2524 - val_accuracy: 0.9726\n",
            "Epoch 12/30\n",
            "1875/1875 [==============================] - 12s 6ms/step - loss: 0.0702 - accuracy: 0.9811 - val_loss: 0.2687 - val_accuracy: 0.9727\n",
            "Epoch 13/30\n",
            "1875/1875 [==============================] - 12s 6ms/step - loss: 0.0709 - accuracy: 0.9813 - val_loss: 0.2397 - val_accuracy: 0.9727\n",
            "Epoch 14/30\n",
            "1875/1875 [==============================] - 12s 6ms/step - loss: 0.0665 - accuracy: 0.9825 - val_loss: 0.2712 - val_accuracy: 0.9736\n",
            "Epoch 15/30\n",
            "1875/1875 [==============================] - 13s 7ms/step - loss: 0.0654 - accuracy: 0.9827 - val_loss: 0.2350 - val_accuracy: 0.9722\n",
            "Epoch 16/30\n",
            "1875/1875 [==============================] - 12s 6ms/step - loss: 0.0620 - accuracy: 0.9830 - val_loss: 0.2432 - val_accuracy: 0.9725\n",
            "Epoch 17/30\n",
            "1875/1875 [==============================] - 11s 6ms/step - loss: 0.0582 - accuracy: 0.9842 - val_loss: 0.2696 - val_accuracy: 0.9743\n",
            "Epoch 18/30\n",
            "1875/1875 [==============================] - 11s 6ms/step - loss: 0.0560 - accuracy: 0.9858 - val_loss: 0.2352 - val_accuracy: 0.9731\n",
            "Epoch 19/30\n",
            "1875/1875 [==============================] - 11s 6ms/step - loss: 0.0569 - accuracy: 0.9848 - val_loss: 0.2317 - val_accuracy: 0.9729\n",
            "Epoch 20/30\n",
            "1875/1875 [==============================] - 11s 6ms/step - loss: 0.0528 - accuracy: 0.9859 - val_loss: 0.3235 - val_accuracy: 0.9730\n",
            "Epoch 21/30\n",
            "1875/1875 [==============================] - 13s 7ms/step - loss: 0.0481 - accuracy: 0.9870 - val_loss: 0.2399 - val_accuracy: 0.9734\n",
            "Epoch 22/30\n",
            "1875/1875 [==============================] - 12s 6ms/step - loss: 0.0498 - accuracy: 0.9870 - val_loss: 0.2221 - val_accuracy: 0.9722\n",
            "Epoch 23/30\n",
            "1875/1875 [==============================] - 12s 7ms/step - loss: 0.0477 - accuracy: 0.9878 - val_loss: 0.2523 - val_accuracy: 0.9733\n",
            "Epoch 24/30\n",
            "1875/1875 [==============================] - 12s 6ms/step - loss: 0.0470 - accuracy: 0.9878 - val_loss: 0.2483 - val_accuracy: 0.9730\n",
            "Epoch 25/30\n",
            "1875/1875 [==============================] - 12s 7ms/step - loss: 0.0449 - accuracy: 0.9882 - val_loss: 0.3743 - val_accuracy: 0.9723\n",
            "Epoch 26/30\n",
            "1875/1875 [==============================] - 12s 6ms/step - loss: 0.0406 - accuracy: 0.9896 - val_loss: 0.3378 - val_accuracy: 0.9712\n",
            "Epoch 27/30\n",
            "1875/1875 [==============================] - 14s 7ms/step - loss: 0.0472 - accuracy: 0.9882 - val_loss: 0.2473 - val_accuracy: 0.9731\n",
            "Epoch 28/30\n",
            "1875/1875 [==============================] - 12s 6ms/step - loss: 0.0404 - accuracy: 0.9899 - val_loss: 0.2520 - val_accuracy: 0.9733\n",
            "Epoch 29/30\n",
            "1875/1875 [==============================] - 12s 6ms/step - loss: 0.0431 - accuracy: 0.9885 - val_loss: 0.2775 - val_accuracy: 0.9728\n",
            "Epoch 30/30\n",
            "1875/1875 [==============================] - 11s 6ms/step - loss: 0.0425 - accuracy: 0.9891 - val_loss: 0.2607 - val_accuracy: 0.9746\n"
          ]
        },
        {
          "output_type": "execute_result",
          "data": {
            "text/plain": [
              "<keras.callbacks.History at 0x7f68f09258d0>"
            ]
          },
          "metadata": {},
          "execution_count": 13
        }
      ]
    },
    {
      "cell_type": "code",
      "source": [
        "model.evaluate(X_test, y_test)"
      ],
      "metadata": {
        "colab": {
          "base_uri": "https://localhost:8080/"
        },
        "id": "tQzYVW_McGrM",
        "outputId": "4b7be0cb-a7ff-4582-f140-ebdee96ce6d4"
      },
      "execution_count": 14,
      "outputs": [
        {
          "output_type": "stream",
          "name": "stdout",
          "text": [
            "313/313 [==============================] - 1s 3ms/step - loss: 0.2607 - accuracy: 0.9746\n"
          ]
        },
        {
          "output_type": "execute_result",
          "data": {
            "text/plain": [
              "[0.26074957847595215, 0.9746000170707703]"
            ]
          },
          "metadata": {},
          "execution_count": 14
        }
      ]
    },
    {
      "cell_type": "code",
      "source": [],
      "metadata": {
        "id": "Wu7d8Ur6drhB"
      },
      "execution_count": null,
      "outputs": []
    }
  ]
}